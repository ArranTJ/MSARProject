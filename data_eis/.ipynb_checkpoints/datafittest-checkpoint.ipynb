{
 "cells": [
  {
   "cell_type": "code",
   "execution_count": null,
   "id": "836739b1-a6c3-47bf-b5fd-f1d3c21eae66",
   "metadata": {},
   "outputs": [],
   "source": [
    "import numpy as np\n",
    "import matplotlib.pyplot as plt\n",
    "import astropy.units as u\n",
    "from astropy.coordinates import SkyCoord\n",
    "from astropy.wcs.utils import wcs_to_celestial_frame\n",
    "import eispac\n",
    "\n",
    "from astropy.visualization import astropy_mpl_style\n",
    "from astropy.io import fits\n",
    "\n",
    "plt.style.use(astropy_mpl_style)"
   ]
  },
  {
   "cell_type": "code",
   "execution_count": null,
   "id": "41b9858e-2b9b-4c43-8acc-219453df6651",
   "metadata": {},
   "outputs": [],
   "source": [
    "if __name__ == '__main__':\n",
    "    # Read in the fit template and EIS observation\n",
    "    data_filepath = './eis_20170906_120233.data.h5'\n",
    "    template_filepath = './fe_14_264_787.1c.template.h5'\n",
    "    tmplt = eispac.read_template(template_filepath)\n",
    "    data_cube = eispac.read_cube(data_filepath, tmplt.central_wave)\n",
    "    # Select a cutout of the raster\n",
    "    eis_frame = wcs_to_celestial_frame(data_cube.wcs)\n",
    "    lower_left = [None, SkyCoord(Tx=515, Ty=-250, unit=u.arcsec, frame=eis_frame)]\n",
    "    upper_right = [None, SkyCoord(Tx=525, Ty=-240, unit=u.arcsec, frame=eis_frame)]\n",
    "    raster_cutout = data_cube.crop(lower_left, upper_right)"
   ]
  },
  {
   "cell_type": "code",
   "execution_count": null,
   "id": "958bec17-3232-4d1f-b6a4-10021beee94a",
   "metadata": {},
   "outputs": [],
   "source": [
    "    \n",
    "    # # Fit the data and save it to disk\n",
    "    fit_res = eispac.fit_spectra(raster_cutout, tmplt, ncpu='max')\n",
    "    save_filepaths = eispac.save_fit(fit_res, save_dir='cwd')\n",
    "\n",
    "    # # Find indices and world coordinates of max intensity\n",
    "    sum_data_inten = raster_cutout.sum_spectra().data\n",
    "    iy, ix = np.unravel_index(sum_data_inten.argmax(), sum_data_inten.shape)\n",
    "    ex_world_coords = raster_cutout.wcs.array_index_to_world(iy, ix, 0)[1]\n",
    "    y_arcsec, x_arcsec = ex_world_coords.Ty.value, ex_world_coords.Tx.value"
   ]
  },
  {
   "cell_type": "code",
   "execution_count": null,
   "id": "94810106-491a-4b51-a70e-e68469d47c9c",
   "metadata": {},
   "outputs": [],
   "source": [
    "    # Extract data profile and interpolate fit at higher spectral resolution\n",
    "    data_x = raster_cutout.wavelength[iy, ix, :]\n",
    "    data_y = raster_cutout.data[iy, ix, :]\n",
    "    data_err = raster_cutout.uncertainty.array[iy, ix, :]\n",
    "    fit_x, fit_y = fit_res.get_fit_profile(coords=[iy,ix], num_wavelengths=100)\n",
    "    c0_x, c0_y = fit_res.get_fit_profile(0, coords=[iy,ix], num_wavelengths=100)\n",
    "    # c1_x, c1_y = fit_res.get_fit_profile(1, coords=[iy,ix], num_wavelengths=100)\n",
    "    # c2_x, c2_y = fit_res.get_fit_profile(2, coords=[iy,ix], num_wavelengths=100)"
   ]
  },
  {
   "cell_type": "code",
   "execution_count": null,
   "id": "d87e9b48-a16d-46d1-8aa1-46c5fc75c683",
   "metadata": {},
   "outputs": [],
   "source": [
    "    # Make a multi-panel figure with the cutout and example profile\n",
    "    fig = plt.figure(figsize=[10,5])\n",
    "    plot_grid = fig.add_gridspec(nrows=1, ncols=2, wspace=0.3)\n",
    "    \n",
    "    data_subplt = fig.add_subplot(plot_grid[0,0])\n",
    "    data_subplt.imshow(sum_data_inten, origin='lower', extent = data_cube.meta['extent_arcsec'])\n",
    "    data_subplt.scatter(x_arcsec, y_arcsec, color='r', marker='x')\n",
    "    data_subplt.set_title('Data Cutout\\n'+raster_cutout.meta['mod_index']['date_obs'])\n",
    "    data_subplt.set_xlabel('Solar-X [arcsec]')\n",
    "    data_subplt.set_ylabel('Solar-Y [arcsec]')\n",
    "    \n",
    "    profile_subplt = fig.add_subplot(plot_grid[0,1])\n",
    "    profile_subplt.errorbar(data_x, data_y, yerr=data_err, ls='', marker='o', color='k')\n",
    "    profile_subplt.plot(fit_x, fit_y, color='b', label='Combined profile')\n",
    "    profile_subplt.plot(c0_x, c0_y, color='r', label=fit_res.fit['line_ids'][0])\n",
    "    # profile_subplt.plot(c1_x, c1_y, color='r', ls='--', label=fit_res.fit['line_ids'][1])\n",
    "    # profile_subplt.plot(c2_x, c2_y, color='g', label='Background')\n",
    "    profile_subplt.set_title(f'Cutout indices: iy = {iy}, ix = {ix}')\n",
    "    profile_subplt.set_xlabel('Wavelength [$\\AA$]')\n",
    "    profile_subplt.set_ylabel('Intensity ['+raster_cutout.unit.to_string()+']')\n",
    "    profile_subplt.legend(loc='upper left', frameon=False)\n",
    "    \n",
    "    plt.show()"
   ]
  }
 ],
 "metadata": {
  "kernelspec": {
   "display_name": "Python 3 (ipykernel)",
   "language": "python",
   "name": "python3"
  },
  "language_info": {
   "codemirror_mode": {
    "name": "ipython",
    "version": 3
   },
   "file_extension": ".py",
   "mimetype": "text/x-python",
   "name": "python",
   "nbconvert_exporter": "python",
   "pygments_lexer": "ipython3",
   "version": "3.11.7"
  }
 },
 "nbformat": 4,
 "nbformat_minor": 5
}
